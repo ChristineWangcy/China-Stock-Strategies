{
 "cells": [
  {
   "cell_type": "code",
   "execution_count": 2,
   "metadata": {},
   "outputs": [
    {
     "name": "stdout",
     "output_type": "stream",
     "text": [
      "wrong predict for buy:  TSLA   2017-10-18\n",
      "correct predict for buy:  TSLA   2017-12-11\n",
      "correct predict for buy:  TSLA   2018-05-30\n",
      "correct predict for buy:  GOOGL   2017-09-27\n",
      "wrong predict for buy:  GOOGL   2018-03-09\n",
      "correct predict for buy:  GOOGL   2018-05-10\n",
      "correct predict for buy:  FB   2018-01-02\n",
      "wrong predict for buy:  FB   2018-04-17\n",
      "correct buy:  5 wrong_buy:  3 total buy:  8\n",
      "('total predict: ', 0.55555555555555558, 'buy predict: ', 0.625)\n"
     ]
    },
    {
     "name": "stderr",
     "output_type": "stream",
     "text": [
      "C:\\Users\\Christine\\Anaconda3\\lib\\site-packages\\ipykernel\\__main__.py:8: DeprecationWarning: \n",
      ".ix is deprecated. Please use\n",
      ".loc for label based indexing or\n",
      ".iloc for positional indexing\n",
      "\n",
      "See the documentation here:\n",
      "http://pandas.pydata.org/pandas-docs/stable/indexing.html#ix-indexer-is-deprecated\n",
      "C:\\Users\\Christine\\Anaconda3\\lib\\site-packages\\ipykernel\\__main__.py:10: DeprecationWarning: \n",
      ".ix is deprecated. Please use\n",
      ".loc for label based indexing or\n",
      ".iloc for positional indexing\n",
      "\n",
      "See the documentation here:\n",
      "http://pandas.pydata.org/pandas-docs/stable/indexing.html#ix-indexer-is-deprecated\n"
     ]
    }
   ],
   "source": [
    "import pandas as pd\n",
    "from sklearn import tree\n",
    "from sklearn.metrics import accuracy_score\n",
    "import numpy as np\n",
    "\n",
    "train_data = pd.read_csv('traindata_us.csv')\n",
    "test_data = pd.read_csv('testdata_us.csv')\n",
    "X_train = train_data.ix[:,['upcount 20','breakfromlow','rise percent','maxvol 10']]\n",
    "y_train = train_data.ix[:,['breakprofit']]\n",
    "X_test = test_data.ix[:,['upcount 20','breakfromlow','rise percent','maxvol 10']]\n",
    "y_true = test_data.ix[:,['breakprofit']]\n",
    "\n",
    "clf = tree.DecisionTreeClassifier(criterion='entropy')\n",
    "clf.fit(X_train,y_train)\n",
    "y_predict = clf.predict(X_test)\n",
    "\n",
    "y_predict = pd.DataFrame({'breakprofit':list(y_predict)})\n",
    "y_predict.index = y_true.index.tolist()\n",
    "\n",
    "wrong_buy = 0\n",
    "correct_buy = 0\n",
    "\n",
    "for i in range(0,len(y_predict)):\n",
    "    if y_predict.iloc[i]['breakprofit'] == 1:\n",
    "        if y_true.iloc[i]['breakprofit'] == 0:\n",
    "            print ('wrong predict for buy: ',test_data.iloc[i]['stocksymbol'],' ',test_data.iloc[i]['date'])\n",
    "            wrong_buy += 1\n",
    "        if y_true.iloc[i]['breakprofit'] == 1:\n",
    "            print ('correct predict for buy: ',test_data.iloc[i]['stocksymbol'],' ',test_data.iloc[i]['date'])\n",
    "            correct_buy += 1\n",
    "total_buy = wrong_buy + correct_buy\n",
    "if correct_buy > 0:\n",
    "    print ('correct buy: ', correct_buy, 'wrong_buy: ', wrong_buy, 'total buy: ', total_buy)\n",
    "    record = 'total predict: ', accuracy_score(y_true,y_predict), 'buy predict: ', correct_buy/total_buy\n",
    "    print (record)"
   ]
  },
  {
   "cell_type": "code",
   "execution_count": 3,
   "metadata": {},
   "outputs": [
    {
     "name": "stdout",
     "output_type": "stream",
     "text": [
      "[ 0.20874387  0.07356409  0.65721839  0.06047364] ['upcount 20' 'breakfromlow' 'rise percent' 'maxvol 10']\n"
     ]
    },
    {
     "data": {
      "image/png": "[encoded data removed]",
      "text/plain": [
       "<matplotlib.figure.Figure at 0x1bc84dfd0b8>"
      ]
     },
     "metadata": {},
     "output_type": "display_data"
    }
   ],
   "source": [
    "import matplotlib.pyplot as plt\n",
    "\n",
    "y_importances = clf.feature_importances_\n",
    "x_importances = X_train.columns.values\n",
    "print (y_importances,x_importances)\n",
    "y_pos = np.arange(len(x_importances))\n",
    "\n",
    "plt.barh(y_pos, y_importances, align='center')\n",
    "plt.yticks(y_pos, x_importances)\n",
    "plt.xlabel('Importances')\n",
    "plt.xlim(0,1)\n",
    "plt.title('Feature Importances')\n",
    "plt.show()"
   ]
  },
  {
   "cell_type": "code",
   "execution_count": null,
   "metadata": {
    "collapsed": true
   },
   "outputs": [],
   "source": []
  }
 ],
 "metadata": {
  "kernelspec": {
   "display_name": "Python [conda env:Anaconda3]",
   "language": "python",
   "name": "conda-env-Anaconda3-py"
  },
  "language_info": {
   "codemirror_mode": {
    "name": "ipython",
    "version": 3
   },
   "file_extension": ".py",
   "mimetype": "text/x-python",
   "name": "python",
   "nbconvert_exporter": "python",
   "pygments_lexer": "ipython3",
   "version": "3.6.2"
  }
 },
 "nbformat": 4,
 "nbformat_minor": 2
}
