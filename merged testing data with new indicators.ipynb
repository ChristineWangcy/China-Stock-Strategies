{
 "cells": [
  {
   "cell_type": "code",
   "execution_count": 43,
   "metadata": {
    "collapsed": true,
    "scrolled": true
   },
   "outputs": [],
   "source": [
    "import pandas as pd\n",
    "import numpy as np"
   ]
  },
  {
   "cell_type": "code",
   "execution_count": 44,
   "metadata": {
    "collapsed": true,
    "scrolled": true
   },
   "outputs": [],
   "source": [
    "# get high vertexs index and price, whose highest is higher than adjacent 4\n",
    "# days highest price, whose lowest is higher than adjacent 4 days \n",
    "# lowest price\n",
    "\n",
    "# get low vertexs index and price, whose low is loser than adjacent 4 days lowest\n",
    "# price, whose high is lower than adjacent 4 days highest price \n",
    "def vertex(dates,lows,highs,closes):\n",
    "    hvertexs = []\n",
    "    lvertexs = []\n",
    "    for i in range(5,len(highs)-5):\n",
    "        if highs[i] == max(highs[i-4:i+4]):\n",
    "            if lows[i] > min(lows[i-4:i]) and lows[i] > min(lows[i+1:i+5]):\n",
    "                hvertexs.append([i,dates[i],highs[i]])\n",
    "        if lows[i] == min(lows[i-4:i+4]):\n",
    "            if highs[i] < max(highs[i-4:i]) and highs[i] < max(highs[i+1:i+5]):\n",
    "                lvertexs.append([i,dates[i],lows[i]])\n",
    "    return hvertexs,lvertexs"
   ]
  },
  {
   "cell_type": "code",
   "execution_count": 45,
   "metadata": {
    "collapsed": true,
    "scrolled": true
   },
   "outputs": [],
   "source": [
    "#define necessary indicators\n",
    "\n",
    "# first time breakthrough short term wandering area \n",
    "def first_bt(data): #data is a dataframe including low, high, close prices\n",
    "    rows_num = len(data)\n",
    "    if rows_num < 30:   #first_bt indicator is only for record with min 30 days\n",
    "        return data\n",
    "    else:\n",
    "        #get seperate lists of date, high, low and close prices        \n",
    "        dates = data['date']\n",
    "        lows = data['low']\n",
    "        highs = data['high']\n",
    "        closes = data['close']\n",
    "        #add a column 'first breakthrough' for data and initilize value with False\n",
    "        data['first breakthrough'] = 0\n",
    "        hvertexs, lvertexs = vertex(dates,lows,highs,closes)\n",
    "        #check each record, add indicator 'first breakthrough'\n",
    "        for i in range(0,rows_num):\n",
    "            today = dates[i]\n",
    "        #this record must have highest high and close price in 10 days\n",
    "            if i > 10 and highs[i] >= max(highs[i-10:i]) and closes[i] >= max(closes[i-10:i]):\n",
    "                #find out previous index, previous 2nd high vertex must be \n",
    "                #exist and the price is higher than previous high vertex\n",
    "                prevh_index = -1 \n",
    "                for j in range(len(hvertexs)-1,-1,-1):\n",
    "                    #strtoday = time.strptime(today,'%Y-%m-%d')\n",
    "                    #if strtoday > time.strptime(hvertexs[j][0],'%Y-%m-%d'):\n",
    "                    if today > hvertexs[j][1]:\n",
    "                        if j > 0  and hvertexs[j][2] < hvertexs[j-1][2]:\n",
    "                            prevh_date = hvertexs[j][1]\n",
    "                            prevh_index = hvertexs[j][0]\n",
    "                        break\n",
    "                #high must be higher than all from previou high vertex to now\n",
    "                if prevh_index > 10 and i > prevh_index + 3 and highs[i] >= max(highs[prevh_index:i]) and closes[i] >= max(closes[prevh_index:i]) and highs[prevh_index] > max(highs[prevh_index+1:i]):\n",
    "                    data['first breakthrough'][i] = 1\n",
    "    return data"
   ]
  },
  {
   "cell_type": "code",
   "execution_count": 46,
   "metadata": {
    "collapsed": true,
    "scrolled": true
   },
   "outputs": [],
   "source": [
    "# input rise percents, output the number of days price is rising within\n",
    "# recent n days \n",
    "def maxpricevol(rise_percents,n,volumns):\n",
    "    counts = []\n",
    "    maxvol10 = []\n",
    "    for i in range(n,len(volumns)):\n",
    "        count = 0\n",
    "        for j in range(i-n,i):\n",
    "            if rise_percents[j] > 0:\n",
    "                  count = count + 1\n",
    "        counts.append(count)\n",
    "        max10 = 0\n",
    "        if volumns[i] > max(volumns[i-10:i]):\n",
    "            max10=1\n",
    "        maxvol10.append(max10)\n",
    "    return counts, maxvol10"
   ]
  },
  {
   "cell_type": "code",
   "execution_count": 47,
   "metadata": {
    "collapsed": true,
    "scrolled": true
   },
   "outputs": [],
   "source": [
    "# for each day if buying with open price, whether the profit reaches 5% in \n",
    "# later 5 days and loss is less than 5%\n",
    "def profit_and_fromlow(open, close, high, low):\n",
    "    profits = [99999] * len(open)\n",
    "    fromlow = [99999] * len(open)\n",
    "    for i in range(0,len(open)-6):\n",
    "        if i > 4:\n",
    "            fromlow[i] = round((open[i]-min(low[i-4:i]))/open[i],5) \n",
    "        else:\n",
    "            fromlow[i] = round((open[i]-min(low[:]))/open[i],5) \n",
    "                \n",
    "        for j in range(i+1,len(open)):\n",
    "            if low[j] < open[i] * 0.95:\n",
    "                profits[i] = 0\n",
    "                break\n",
    "            else:\n",
    "                if high[j] > open[i] * 1.05:\n",
    "                    profits[i] = 1\n",
    "                    break\n",
    "        \n",
    "    return profits,fromlow "
   ]
  },
  {
   "cell_type": "code",
   "execution_count": 48,
   "metadata": {
    "scrolled": true
   },
   "outputs": [
    {
     "name": "stdout",
     "output_type": "stream",
     "text": [
      "for stock TSLA:\n"
     ]
    },
    {
     "name": "stderr",
     "output_type": "stream",
     "text": [
      "C:\\Users\\Christine\\Anaconda3\\lib\\site-packages\\ipykernel\\__main__.py:35: SettingWithCopyWarning: \n",
      "A value is trying to be set on a copy of a slice from a DataFrame\n",
      "\n",
      "See the caveats in the documentation: http://pandas.pydata.org/pandas-docs/stable/indexing.html#indexing-view-versus-copy\n",
      "C:\\Users\\Christine\\Anaconda3\\lib\\site-packages\\ipykernel\\__main__.py:48: SettingWithCopyWarning: \n",
      "A value is trying to be set on a copy of a slice from a DataFrame\n",
      "\n",
      "See the caveats in the documentation: http://pandas.pydata.org/pandas-docs/stable/indexing.html#indexing-view-versus-copy\n",
      "C:\\Users\\Christine\\Anaconda3\\lib\\site-packages\\ipykernel\\__main__.py:50: SettingWithCopyWarning: \n",
      "A value is trying to be set on a copy of a slice from a DataFrame\n",
      "\n",
      "See the caveats in the documentation: http://pandas.pydata.org/pandas-docs/stable/indexing.html#indexing-view-versus-copy\n",
      "C:\\Users\\Christine\\Anaconda3\\lib\\site-packages\\ipykernel\\__main__.py:52: DeprecationWarning: \n",
      ".ix is deprecated. Please use\n",
      ".loc for label based indexing or\n",
      ".iloc for positional indexing\n",
      "\n",
      "See the documentation here:\n",
      "http://pandas.pydata.org/pandas-docs/stable/indexing.html#ix-indexer-is-deprecated\n",
      "C:\\Users\\Christine\\Anaconda3\\lib\\site-packages\\ipykernel\\__main__.py:58: SettingWithCopyWarning: \n",
      "A value is trying to be set on a copy of a slice from a DataFrame.\n",
      "Try using .loc[row_indexer,col_indexer] = value instead\n",
      "\n",
      "See the caveats in the documentation: http://pandas.pydata.org/pandas-docs/stable/indexing.html#indexing-view-versus-copy\n"
     ]
    },
    {
     "name": "stdout",
     "output_type": "stream",
     "text": [
      "for stock APPL:\n",
      "for stock GOOGL:\n",
      "for stock FB:\n",
      "for stock BABA:\n"
     ]
    }
   ],
   "source": [
    "# combine all first break data from different stock files into 1 file\n",
    "\n",
    "train_list = []\n",
    "test_list = []\n",
    "\n",
    "for stock_number in ['TSLA','APPL','GOOGL','FB','BABA']:\n",
    "    \n",
    "    \n",
    "    #prepare input data for decision tree with necessary indicators\n",
    "    strnum = str(stock_number)\n",
    "    print ('for stock ' + strnum + ':')\n",
    "    stocks = pd.read_csv(strnum + '.csv')\n",
    "    stocks.rename(columns={'Unnamed: 0':'Date'},inplace=True)\n",
    "    #print (stocks)\n",
    "    #stockdata = stocks.ix[:,['Date', strnum +'_High',strnum +'_Low',strnum +'_Close',strnum +'_Open',strnum +'_Volumn']]\n",
    "    \n",
    "    # remove records with space value of price\n",
    "    stockdata = stocks.dropna()\n",
    "    if len(stockdata.index) < 800:\n",
    "        continue\n",
    "        \n",
    "    #reset indexes\n",
    "    stockdata.columns = ['date','open','high','low','close','volumn']\n",
    "    stockdata.index = range(len(stockdata.index))\n",
    "\n",
    "    #add first time up indicator\n",
    "    stockdata = first_bt(stockdata)\n",
    "\n",
    "    #add rise percentage indicator rise percent\n",
    "    rise = stockdata.close.diff()\n",
    "    stockdata['rise percent'] = round(rise/stockdata['close'],5)\n",
    "\n",
    "    #add 20 recent days up indicator upcount_20\n",
    "    if len(stockdata['rise percent']) > 21:\n",
    "        upcount_20, maxvol_10 = maxpricevol(stockdata['rise percent'],20,stockdata['volumn'])\n",
    "        stockdata['upcount 20'] = [0] * 20 + upcount_20\n",
    "        stockdata['maxvol 10'] = [0] * 20 + maxvol_10\n",
    "    # add profit percent indicator profit, open to previous lowest price percentage indicator from_low\n",
    "    if len(stockdata['open']) > 6:\n",
    "        profit_fromlow = profit_and_fromlow(stockdata['open'],stockdata['close'],stockdata['high'],stockdata['low'])\n",
    "        stockdata['profit'],stockdata['fromlow'] = profit_fromlow\n",
    "    # add breakprofit indicator profit\n",
    "    stockdata['breakprofit'] = [0] * len(stockdata['profit'])\n",
    "    stockdata['breakfromlow'] = [0] * len(stockdata['profit'])\n",
    "    for i in range(0,len(stockdata['profit'])):\n",
    "        if stockdata['first breakthrough'][i] == 1:\n",
    "            if stockdata['profit'][i] == 1:\n",
    "                stockdata['breakprofit'][i] = 1\n",
    "            if stockdata['fromlow'][i] < 0.05:\n",
    "                stockdata['breakfromlow'][i] = 1\n",
    "    \n",
    "    stockdata = stockdata.replace([' ', np.inf, -np.inf,99999], np.nan).ix[20:,:]\n",
    "    stockdata.to_csv('new' + strnum + '.csv')\n",
    "    data = pd.read_csv('new' + strnum + '.csv')\n",
    "    data = data.dropna()\n",
    "\n",
    "    firstbreakdata = data.loc[data['first breakthrough'].isin([1])]\n",
    "    firstbreakdata['stocksymbol'] = stock_number\n",
    "\n",
    "    if len(firstbreakdata) < 4:\n",
    "        continue\n",
    "\n",
    "    train_list.append(firstbreakdata.iloc[:-3,:])\n",
    "    test_list.append(firstbreakdata.iloc[-3:,:])\n",
    "   \n",
    "total_train = pd.concat(train_list)\n",
    "total_test = pd.concat(test_list)\n",
    "\n",
    "total_train.to_csv('traindata_us.csv')\n",
    "total_test.to_csv('testdata_us.csv')\n"
   ]
  },
  {
   "cell_type": "raw",
   "metadata": {},
   "source": []
  }
 ],
 "metadata": {
  "kernelspec": {
   "display_name": "Python [default]",
   "language": "python",
   "name": "python3"
  },
  "language_info": {
   "codemirror_mode": {
    "name": "ipython",
    "version": 3
   },
   "file_extension": ".py",
   "mimetype": "text/x-python",
   "name": "python",
   "nbconvert_exporter": "python",
   "pygments_lexer": "ipython3",
   "version": "3.6.2"
  }
 },
 "nbformat": 4,
 "nbformat_minor": 2
}
